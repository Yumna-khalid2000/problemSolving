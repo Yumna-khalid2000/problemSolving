{
 "cells": [
  {
   "cell_type": "code",
   "execution_count": null,
   "metadata": {},
   "outputs": [],
   "source": [
    "#Given an unsorted array Arr of N positive and negative numbers you task is to create an arry of alternate positive &\n",
    "#negative numbers without changing the relative order of positive and negative numbers .\n",
    "\n",
    "\n",
    "def rightRotate(arr, n, outOfPlace, cur):\n",
    "    temp = arr[cur]\n",
    "    for i in range(cur, outOfPlace, -1):\n",
    "            arr[i] = arr[i - 1]\n",
    "            arr[outOfPlace] = temp\n",
    "    return arr\n",
    "\n",
    "\n",
    "def rearrange(arr, n):\n",
    "    outOfPlace = -1\n",
    "    for index in range(n):\n",
    "    if(outOfPlace >= 0):\n",
    "\n",
    "\n",
    "        if((arr[index] >= 0 and arr[outOfPlace] < 0) or\n",
    "        (arr[index] < 0 and arr[outOfPlace] >= 0)):\n",
    "             arr = rightRotate(arr, n, outOfPlace, index)\n",
    "                if(index-outOfPlace > 2):\n",
    "                    outOfPlace += 2\n",
    "                else:\n",
    "                    outOfPlace = - 1\n",
    "\n",
    "        if(outOfPlace == -1):\n",
    "\n",
    "            if((arr[index] >= 0 and index % 2 == 0) or\n",
    "            (arr[index] < 0 and index % 2 == 1)):\n",
    "            outOfPlace = index\n",
    "        return arr\n",
    "\n",
    "\n",
    "\n",
    "arr = [9, 4, -2, -1, 5, 0, -5, 0, -3, 2]\n",
    "\n",
    "print(\"Given Array is:\")\n",
    "print(arr)\n",
    "\n",
    "print(\"\\nRearranged array is:\")\n",
    "print(rearrange(arr, len(arr)))\n",
    "\n"
   ]
  }
 ],
 "metadata": {
  "kernelspec": {
   "display_name": "Python 3",
   "language": "python",
   "name": "python3"
  },
  "language_info": {
   "codemirror_mode": {
    "name": "ipython",
    "version": 3
   },
   "file_extension": ".py",
   "mimetype": "text/x-python",
   "name": "python",
   "nbconvert_exporter": "python",
   "pygments_lexer": "ipython3",
   "version": "3.8.5"
  }
 },
 "nbformat": 4,
 "nbformat_minor": 4
}
