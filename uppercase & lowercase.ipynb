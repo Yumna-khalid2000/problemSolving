{
 "cells": [
  {
   "cell_type": "code",
   "execution_count": null,
   "metadata": {},
   "outputs": [],
   "source": [
    "#Given a string S .The task is to count the number of substrings which contains equal number of lowercase\n",
    "#and uppercase  letters .\n",
    "\n",
    "\n",
    "def count_substrings(S):\n",
    "    count = 0\n",
    "    lowercase = 0\n",
    "    uppercase = 0\n",
    "    start = 0\n",
    "\n",
    "for end in range(len(S)):\n",
    "    if S[end].islower():\n",
    "        lowercase += 1\n",
    "    else:\n",
    "        uppercase += 1\n",
    "\n",
    "if lowercase == uppercase:\n",
    "    count += 1\n",
    "\n",
    "while lowercase != uppercase:\n",
    "    if S[start].islower():\n",
    "        lowercase -= 1\n",
    "    else:\n",
    "        uppercase -= 1\n",
    "        start += 1\n",
    "\n",
    "return count\n",
    "\n",
    "\n",
    "S = \"WomensDAY\"\n",
    "substr_count = count_substrings(S)\n",
    "print(substr_count)"
   ]
  }
 ],
 "metadata": {
  "kernelspec": {
   "display_name": "Python 3",
   "language": "python",
   "name": "python3"
  },
  "language_info": {
   "codemirror_mode": {
    "name": "ipython",
    "version": 3
   },
   "file_extension": ".py",
   "mimetype": "text/x-python",
   "name": "python",
   "nbconvert_exporter": "python",
   "pygments_lexer": "ipython3",
   "version": "3.8.5"
  }
 },
 "nbformat": 4,
 "nbformat_minor": 4
}
