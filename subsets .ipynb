{
 "cells": [
  {
   "cell_type": "code",
   "execution_count": 1,
   "metadata": {},
   "outputs": [],
   "source": [
    "#Given a set of integers , find all distinct sums that can be generated from the subsets of the given sets\n",
    "\n",
    "def distSumRec(arr, n, sum, currindex, s):\n",
    "    if (currindex > n):\n",
    "        return\n",
    "\n",
    "    if (currindex == n):\n",
    "        s.add(sum)\n",
    "        return\n",
    "\n",
    "    distSumRec(arr, n, sum + arr[currindex], currindex+1, s)\n",
    "    distSumRec(arr, n, sum, currindex+1, s)\n",
    "\n",
    "\n",
    "def printDistSum(arr,n):\n",
    "    s = set()\n",
    "    distSumRec(arr, n, 0, 0, s)\n",
    "\n",
    "\n",
    "    for i in s:\n",
    "        print(i,end = \" \")\n",
    "\n",
    "# Driver code\n",
    "if __name__ == 'main':\n",
    "    arr = [2, 3, 4, 5, 6]\n",
    "    n = len(arr)\n",
    "    printDistSum(arr, n)\n",
    "\n",
    "\n"
   ]
  },
  {
   "cell_type": "code",
   "execution_count": null,
   "metadata": {},
   "outputs": [],
   "source": []
  }
 ],
 "metadata": {
  "kernelspec": {
   "display_name": "Python 3",
   "language": "python",
   "name": "python3"
  },
  "language_info": {
   "codemirror_mode": {
    "name": "ipython",
    "version": 3
   },
   "file_extension": ".py",
   "mimetype": "text/x-python",
   "name": "python",
   "nbconvert_exporter": "python",
   "pygments_lexer": "ipython3",
   "version": "3.8.5"
  }
 },
 "nbformat": 4,
 "nbformat_minor": 4
}
