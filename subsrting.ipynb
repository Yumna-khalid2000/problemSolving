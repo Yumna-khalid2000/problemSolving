{
 "cells": [
  {
   "cell_type": "code",
   "execution_count": null,
   "metadata": {},
   "outputs": [],
   "source": [
    "#Given a string S , find the longest palindromic subsrting in S . Substring of string S.S[i...j] where 0<=i<=j<len(s)\n",
    "#palindrome string i A string that reads the same backword more formally S is palindrome if reverse(s)=s In case of conflid\n",
    "#return the substring which occurs first (with the least starting index)\n",
    "\n",
    "def longest_palindrome(s):\n",
    "    start = 0\n",
    "    end = 0\n",
    "\n",
    "for i in range(len(s)):\n",
    "    len1 = expand_around_center(s, i, i) \n",
    "    len2 = expand_around_center(s, i, i + 1) \n",
    "    length = max(len1, len2) \n",
    "\n",
    "if length > (end - start):\n",
    "    start = i - (length - 1) // 2\n",
    "    end = i + length // 2\n",
    "\n",
    "return s[start:end + 1]\n",
    "\n",
    "\n",
    "def expand_around_center(s, left, right):\n",
    "    while left >= 0 and right < len(s) and s[left] == s[right]:\n",
    "    left -= 1\n",
    "    right += 1\n",
    "    return right - left - 1\n",
    "\n",
    "\n",
    "s=\"aaabbaa\"\n",
    "print(longest_palindrome(s)) "
   ]
  }
 ],
 "metadata": {
  "kernelspec": {
   "display_name": "Python 3",
   "language": "python",
   "name": "python3"
  },
  "language_info": {
   "codemirror_mode": {
    "name": "ipython",
    "version": 3
   },
   "file_extension": ".py",
   "mimetype": "text/x-python",
   "name": "python",
   "nbconvert_exporter": "python",
   "pygments_lexer": "ipython3",
   "version": "3.8.5"
  }
 },
 "nbformat": 4,
 "nbformat_minor": 4
}
