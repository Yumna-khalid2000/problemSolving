{
 "cells": [
  {
   "cell_type": "code",
   "execution_count": null,
   "metadata": {},
   "outputs": [],
   "source": [
    "#Given string S representing a post fix expression, the expression and find the final value operators will only include\n",
    "#the basic arithmetic operators like * , / , + and -\n",
    "\n",
    "\n",
    "def evaluate_postfix(expression):\n",
    "    stack = []\n",
    "\n",
    "for char in expression:\n",
    "    if char.isdigit():\n",
    "        stack.append(int(char))\n",
    "        elif char in ['+', '-', '*', '/']:\n",
    "            operand2 = stack.pop()\n",
    "            operand1 = stack.pop()\n",
    "\n",
    "if char == '+':\n",
    "    result = operand1 + operand2\n",
    "elif char == '-':\n",
    "    result = operand1 - operand2\n",
    "elif char == '*':\n",
    "    result = operand1 * operand2\n",
    "elif char == '/':\n",
    "    result = operand1 / operand2\n",
    "\n",
    "stack.append(result)\n",
    "\n",
    "return stack[0]\n",
    "\n",
    "\n",
    "expression = \"231*+9-\"\n",
    "result = evaluate_postfix(expression)\n",
    "print(result) # Output: -4\n",
    "\n",
    "\n"
   ]
  }
 ],
 "metadata": {
  "kernelspec": {
   "display_name": "Python 3",
   "language": "python",
   "name": "python3"
  },
  "language_info": {
   "codemirror_mode": {
    "name": "ipython",
    "version": 3
   },
   "file_extension": ".py",
   "mimetype": "text/x-python",
   "name": "python",
   "nbconvert_exporter": "python",
   "pygments_lexer": "ipython3",
   "version": "3.8.5"
  }
 },
 "nbformat": 4,
 "nbformat_minor": 4
}
