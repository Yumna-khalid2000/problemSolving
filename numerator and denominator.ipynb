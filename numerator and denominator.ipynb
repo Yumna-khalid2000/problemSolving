{
 "cells": [
  {
   "cell_type": "code",
   "execution_count": null,
   "metadata": {},
   "outputs": [],
   "source": [
    "#Given a list of N fractions , represened as two lists numerator and denominator\n",
    "#the task is to detrmine the count of pairs of fractions whose sum equals 1\n",
    "\n",
    "def count_fraction_pairs(numerator, denominator):\n",
    "count = 0\n",
    "\n",
    "\n",
    "for i in range(len(numerator)):\n",
    "    comp_fraction = denominator[i] - numerator[i]\n",
    "    if comp_fraction in numerator:\n",
    "        count += 1\n",
    "\n",
    "return count"
   ]
  }
 ],
 "metadata": {
  "kernelspec": {
   "display_name": "Python 3",
   "language": "python",
   "name": "python3"
  },
  "language_info": {
   "codemirror_mode": {
    "name": "ipython",
    "version": 3
   },
   "file_extension": ".py",
   "mimetype": "text/x-python",
   "name": "python",
   "nbconvert_exporter": "python",
   "pygments_lexer": "ipython3",
   "version": "3.8.5"
  }
 },
 "nbformat": 4,
 "nbformat_minor": 4
}
