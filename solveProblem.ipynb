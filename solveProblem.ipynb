{
 "cells": [
  {
   "cell_type": "code",
   "execution_count": 1,
   "metadata": {},
   "outputs": [
    {
     "name": "stdout",
     "output_type": "stream",
     "text": [
      "[1, 2, 3, 4, 5, 6]\n",
      "Enter First number: 4\n",
      "Enter second number: 8\n",
      "12\n",
      "It is good\n"
     ]
    }
   ],
   "source": [
    "#chef and chefina are playing with dice in one turn,both of them roll their dice at once They concider a turn to be good \n",
    "#if the sum of the numbers on their dice is greater than 6 Given that in a particular turn cheif and chefine got X and Y \n",
    "#on their respective dice, find whether the turn was good. \n",
    "\n",
    "num=[1,2,3,4,5,6]\n",
    "print(num) \n",
    "x = int(input(\"Enter First number: \")) \n",
    "y = int(input(\"Enter second number: \"))\n",
    "total = x+y\n",
    "print (total)\n",
    "if(total>=6):\n",
    "    print(\"It is good\")\n",
    "\n",
    "else:\n",
    "    print(\"not good\")\n"
   ]
  },
  {
   "cell_type": "code",
   "execution_count": null,
   "metadata": {},
   "outputs": [],
   "source": []
  },
  {
   "cell_type": "code",
   "execution_count": null,
   "metadata": {},
   "outputs": [],
   "source": []
  }
 ],
 "metadata": {
  "kernelspec": {
   "display_name": "Python 3",
   "language": "python",
   "name": "python3"
  },
  "language_info": {
   "codemirror_mode": {
    "name": "ipython",
    "version": 3
   },
   "file_extension": ".py",
   "mimetype": "text/x-python",
   "name": "python",
   "nbconvert_exporter": "python",
   "pygments_lexer": "ipython3",
   "version": "3.8.5"
  }
 },
 "nbformat": 4,
 "nbformat_minor": 4
}
